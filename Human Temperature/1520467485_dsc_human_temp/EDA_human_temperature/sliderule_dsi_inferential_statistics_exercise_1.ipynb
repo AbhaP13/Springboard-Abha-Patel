{
 "cells": [
  {
   "cell_type": "markdown",
   "metadata": {},
   "source": [
    "# What is the True Normal Human Body Temperature? \n",
    "\n",
    "#### Background\n",
    "\n",
    "The mean normal body temperature was held to be 37$^{\\circ}$C or 98.6$^{\\circ}$F for more than 120 years since it was first conceptualized and reported by Carl Wunderlich in a famous 1868 book. But, is this value statistically correct?"
   ]
  },
  {
   "cell_type": "markdown",
   "metadata": {},
   "source": [
    "<h3>Exercises</h3>\n",
    "\n",
    "<p>In this exercise, you will analyze a dataset of human body temperatures and employ the concepts of hypothesis testing, confidence intervals, and statistical significance.</p>\n",
    "\n",
    "<p>Answer the following questions <b>in this notebook below and submit to your Github account</b>.</p> \n",
    "\n",
    "<ol>\n",
    "<li>  Is the distribution of body temperatures normal? \n",
    "    <ul>\n",
    "    <li> Although this is not a requirement for the Central Limit Theorem to hold (read the introduction on Wikipedia's page about the CLT carefully: https://en.wikipedia.org/wiki/Central_limit_theorem), it gives us some peace of mind that the population may also be normally distributed if we assume that this sample is representative of the population.\n",
    "    <li> Think about the way you're going to check for the normality of the distribution. Graphical methods are usually used first, but there are also other ways: https://en.wikipedia.org/wiki/Normality_test\n",
    "    </ul>\n",
    "<li>  Is the sample size large? Are the observations independent?\n",
    "    <ul>\n",
    "    <li> Remember that this is a condition for the Central Limit Theorem, and hence the statistical tests we are using, to apply.\n",
    "    </ul>\n",
    "<li>  Is the true population mean really 98.6 degrees F?\n",
    "    <ul>\n",
    "    <li> First, try a bootstrap hypothesis test.\n",
    "    <li> Now, let's try frequentist statistical testing. Would you use a one-sample or two-sample test? Why?\n",
    "    <li> In this situation, is it appropriate to use the $t$ or $z$ statistic? \n",
    "    <li> Now try using the other test. How is the result be different? Why?\n",
    "    </ul>\n",
    "<li>  Draw a small sample of size 10 from the data and repeat both frequentist tests. \n",
    "    <ul>\n",
    "    <li> Which one is the correct one to use? \n",
    "    <li> What do you notice? What does this tell you about the difference in application of the $t$ and $z$ statistic?\n",
    "    </ul>\n",
    "<li>  At what temperature should we consider someone's temperature to be \"abnormal\"?\n",
    "    <ul>\n",
    "    <li> As in the previous example, try calculating everything using the boostrap approach, as well as the frequentist approach.\n",
    "    <li> Start by computing the margin of error and confidence interval. When calculating the confidence interval, keep in mind that you should use the appropriate formula for one draw, and not N draws.\n",
    "    </ul>\n",
    "<li>  Is there a significant difference between males and females in normal temperature?\n",
    "    <ul>\n",
    "    <li> What testing approach did you use and why?\n",
    "    <li> Write a story with your conclusion in the context of the original problem.\n",
    "    </ul>\n",
    "</ol>\n",
    "\n",
    "You can include written notes in notebook cells using Markdown: \n",
    "   - In the control panel at the top, choose Cell > Cell Type > Markdown\n",
    "   - Markdown syntax: http://nestacms.com/docs/creating-content/markdown-cheat-sheet\n",
    "\n",
    "#### Resources\n",
    "\n",
    "+ Information and data sources: http://www.amstat.org/publications/jse/datasets/normtemp.txt, http://www.amstat.org/publications/jse/jse_data_archive.htm\n",
    "+ Markdown syntax: http://nestacms.com/docs/creating-content/markdown-cheat-sheet\n",
    "\n",
    "****"
   ]
  },
  {
   "cell_type": "code",
   "execution_count": 102,
   "metadata": {},
   "outputs": [
    {
     "data": {
      "text/html": [
       "<div>\n",
       "<style scoped>\n",
       "    .dataframe tbody tr th:only-of-type {\n",
       "        vertical-align: middle;\n",
       "    }\n",
       "\n",
       "    .dataframe tbody tr th {\n",
       "        vertical-align: top;\n",
       "    }\n",
       "\n",
       "    .dataframe thead th {\n",
       "        text-align: right;\n",
       "    }\n",
       "</style>\n",
       "<table border=\"1\" class=\"dataframe\">\n",
       "  <thead>\n",
       "    <tr style=\"text-align: right;\">\n",
       "      <th></th>\n",
       "      <th>temperature</th>\n",
       "      <th>gender</th>\n",
       "      <th>heart_rate</th>\n",
       "    </tr>\n",
       "  </thead>\n",
       "  <tbody>\n",
       "    <tr>\n",
       "      <th>0</th>\n",
       "      <td>99.3</td>\n",
       "      <td>F</td>\n",
       "      <td>68.0</td>\n",
       "    </tr>\n",
       "    <tr>\n",
       "      <th>1</th>\n",
       "      <td>98.4</td>\n",
       "      <td>F</td>\n",
       "      <td>81.0</td>\n",
       "    </tr>\n",
       "    <tr>\n",
       "      <th>2</th>\n",
       "      <td>97.8</td>\n",
       "      <td>M</td>\n",
       "      <td>73.0</td>\n",
       "    </tr>\n",
       "    <tr>\n",
       "      <th>3</th>\n",
       "      <td>99.2</td>\n",
       "      <td>F</td>\n",
       "      <td>66.0</td>\n",
       "    </tr>\n",
       "    <tr>\n",
       "      <th>4</th>\n",
       "      <td>98.0</td>\n",
       "      <td>F</td>\n",
       "      <td>73.0</td>\n",
       "    </tr>\n",
       "    <tr>\n",
       "      <th>5</th>\n",
       "      <td>99.2</td>\n",
       "      <td>M</td>\n",
       "      <td>83.0</td>\n",
       "    </tr>\n",
       "    <tr>\n",
       "      <th>6</th>\n",
       "      <td>98.0</td>\n",
       "      <td>M</td>\n",
       "      <td>71.0</td>\n",
       "    </tr>\n",
       "    <tr>\n",
       "      <th>7</th>\n",
       "      <td>98.8</td>\n",
       "      <td>M</td>\n",
       "      <td>78.0</td>\n",
       "    </tr>\n",
       "    <tr>\n",
       "      <th>8</th>\n",
       "      <td>98.4</td>\n",
       "      <td>F</td>\n",
       "      <td>84.0</td>\n",
       "    </tr>\n",
       "    <tr>\n",
       "      <th>9</th>\n",
       "      <td>98.6</td>\n",
       "      <td>F</td>\n",
       "      <td>86.0</td>\n",
       "    </tr>\n",
       "  </tbody>\n",
       "</table>\n",
       "</div>"
      ],
      "text/plain": [
       "   temperature gender  heart_rate\n",
       "0         99.3      F        68.0\n",
       "1         98.4      F        81.0\n",
       "2         97.8      M        73.0\n",
       "3         99.2      F        66.0\n",
       "4         98.0      F        73.0\n",
       "5         99.2      M        83.0\n",
       "6         98.0      M        71.0\n",
       "7         98.8      M        78.0\n",
       "8         98.4      F        84.0\n",
       "9         98.6      F        86.0"
      ]
     },
     "execution_count": 102,
     "metadata": {},
     "output_type": "execute_result"
    }
   ],
   "source": [
    "import pandas as pd\n",
    "import matplotlib.pyplot as plt\n",
    "import numpy as np\n",
    "import seaborn as sns\n",
    "import scipy.stats as st\n",
    "\n",
    "df = pd.read_csv('data/human_body_temperature.csv')\n",
    "\n",
    "df.head(10)"
   ]
  },
  {
   "cell_type": "code",
   "execution_count": 8,
   "metadata": {},
   "outputs": [
    {
     "data": {
      "text/html": [
       "<div>\n",
       "<style scoped>\n",
       "    .dataframe tbody tr th:only-of-type {\n",
       "        vertical-align: middle;\n",
       "    }\n",
       "\n",
       "    .dataframe tbody tr th {\n",
       "        vertical-align: top;\n",
       "    }\n",
       "\n",
       "    .dataframe thead th {\n",
       "        text-align: right;\n",
       "    }\n",
       "</style>\n",
       "<table border=\"1\" class=\"dataframe\">\n",
       "  <thead>\n",
       "    <tr style=\"text-align: right;\">\n",
       "      <th></th>\n",
       "      <th>temperature</th>\n",
       "      <th>heart_rate</th>\n",
       "    </tr>\n",
       "  </thead>\n",
       "  <tbody>\n",
       "    <tr>\n",
       "      <th>count</th>\n",
       "      <td>130.000000</td>\n",
       "      <td>130.000000</td>\n",
       "    </tr>\n",
       "    <tr>\n",
       "      <th>mean</th>\n",
       "      <td>98.249231</td>\n",
       "      <td>73.761538</td>\n",
       "    </tr>\n",
       "    <tr>\n",
       "      <th>std</th>\n",
       "      <td>0.733183</td>\n",
       "      <td>7.062077</td>\n",
       "    </tr>\n",
       "    <tr>\n",
       "      <th>min</th>\n",
       "      <td>96.300000</td>\n",
       "      <td>57.000000</td>\n",
       "    </tr>\n",
       "    <tr>\n",
       "      <th>25%</th>\n",
       "      <td>97.800000</td>\n",
       "      <td>69.000000</td>\n",
       "    </tr>\n",
       "    <tr>\n",
       "      <th>50%</th>\n",
       "      <td>98.300000</td>\n",
       "      <td>74.000000</td>\n",
       "    </tr>\n",
       "    <tr>\n",
       "      <th>75%</th>\n",
       "      <td>98.700000</td>\n",
       "      <td>79.000000</td>\n",
       "    </tr>\n",
       "    <tr>\n",
       "      <th>max</th>\n",
       "      <td>100.800000</td>\n",
       "      <td>89.000000</td>\n",
       "    </tr>\n",
       "  </tbody>\n",
       "</table>\n",
       "</div>"
      ],
      "text/plain": [
       "       temperature  heart_rate\n",
       "count   130.000000  130.000000\n",
       "mean     98.249231   73.761538\n",
       "std       0.733183    7.062077\n",
       "min      96.300000   57.000000\n",
       "25%      97.800000   69.000000\n",
       "50%      98.300000   74.000000\n",
       "75%      98.700000   79.000000\n",
       "max     100.800000   89.000000"
      ]
     },
     "execution_count": 8,
     "metadata": {},
     "output_type": "execute_result"
    }
   ],
   "source": [
    "df.describe()"
   ]
  },
  {
   "cell_type": "code",
   "execution_count": 9,
   "metadata": {},
   "outputs": [
    {
     "name": "stdout",
     "output_type": "stream",
     "text": [
      "<class 'pandas.core.frame.DataFrame'>\n",
      "RangeIndex: 130 entries, 0 to 129\n",
      "Data columns (total 3 columns):\n",
      "temperature    130 non-null float64\n",
      "gender         130 non-null object\n",
      "heart_rate     130 non-null float64\n",
      "dtypes: float64(2), object(1)\n",
      "memory usage: 3.1+ KB\n"
     ]
    }
   ],
   "source": [
    "df.info()"
   ]
  },
  {
   "cell_type": "markdown",
   "metadata": {
    "collapsed": true
   },
   "source": [
    "### 1. Is the distribution of body temperatures normal?\n"
   ]
  },
  {
   "cell_type": "code",
   "execution_count": 33,
   "metadata": {},
   "outputs": [
    {
     "name": "stderr",
     "output_type": "stream",
     "text": [
      "C:\\Users\\Abha\\Anaconda3\\lib\\site-packages\\matplotlib\\axes\\_axes.py:6462: UserWarning: The 'normed' kwarg is deprecated, and has been replaced by the 'density' kwarg.\n",
      "  warnings.warn(\"The 'normed' kwarg is deprecated, and has been \"\n",
      "C:\\Users\\Abha\\Anaconda3\\lib\\site-packages\\matplotlib\\axes\\_axes.py:6462: UserWarning: The 'normed' kwarg is deprecated, and has been replaced by the 'density' kwarg.\n",
      "  warnings.warn(\"The 'normed' kwarg is deprecated, and has been \"\n"
     ]
    },
    {
     "data": {
      "image/png": "[encoded data removed]",
      "text/plain": [
       "<Figure size 432x288 with 1 Axes>"
      ]
     },
     "metadata": {},
     "output_type": "display_data"
    }
   ],
   "source": [
    "sns.set()\n",
    "\n",
    "temp = df.temperature\n",
    "\n",
    "#commonly used rule to find number of bins\n",
    "num_bins = int(np.sqrt(len(temp)))\n",
    "\n",
    "temp_mean = np.mean(temp)\n",
    "temp_std = np.std(temp)\n",
    "temp_normal = np.random.normal(temp_mean, temp_std, 100000)\n",
    "\n",
    "#comparing \"Body Temperature\" to the Normal Distribution\n",
    "plt.hist(temp, bins=num_bins, color='red', label='Body Temperature', normed=True)\n",
    "plt.hist(temp_normal, bins = 100, color='blue', alpha=0.3, label='Normal Distribution', normed=True)\n",
    "plt.title('Human Body Temperature vs. Normal Distribution')\n",
    "plt.xlabel('Temperature (F)')\n",
    "plt.legend()\n",
    "plt.show()\n"
   ]
  },
  {
   "cell_type": "markdown",
   "metadata": {},
   "source": [
    "While the histogram shows that a normal distribution possibly exists, it is not yet clear. I will do further EDA and create an ECDF. "
   ]
  },
  {
   "cell_type": "code",
   "execution_count": 40,
   "metadata": {},
   "outputs": [],
   "source": [
    "#create ECDF function rule\n",
    "def ecdf(data):\n",
    "    n = len(data)\n",
    "    x = np.sort(data)\n",
    "    y = np.arange(1, n+1)/n\n",
    "    \n",
    "    return x, y"
   ]
  },
  {
   "cell_type": "code",
   "execution_count": 55,
   "metadata": {},
   "outputs": [
    {
     "data": {
      "image/png": "[encoded data removed]",
      "text/plain": [
       "<Figure size 432x288 with 1 Axes>"
      ]
     },
     "metadata": {},
     "output_type": "display_data"
    }
   ],
   "source": [
    "#Compare ECDF graphs of body temperature and normal distribution\n",
    "x_temp, y_temp = ecdf(temp)\n",
    "x_normal, y_normal = ecdf(temp_normal)\n",
    "\n",
    "plt.plot(x_temp, y_temp, marker='.', linestyle='none', color='red', label = 'Body Temperature')\n",
    "plt.plot(x_normal, y_normal, marker='.', linestyle='none', color='blue', label = 'Normal Distribution', alpha=0.009)\n",
    "plt.xlabel('Temperature (F)')\n",
    "plt.ylabel('ECDF')\n",
    "plt.title('Human Body Temperature vs. Normal Distribution ECDF')\n",
    "plt.legend()\n",
    "plt.xlim(96,101)\n",
    "plt.show()"
   ]
  },
  {
   "cell_type": "markdown",
   "metadata": {},
   "source": [
    "The ECDF graph shows a more clearer picture that the Body Temperature is normal than the histogram. "
   ]
  },
  {
   "cell_type": "code",
   "execution_count": null,
   "metadata": {},
   "outputs": [],
   "source": []
  },
  {
   "cell_type": "markdown",
   "metadata": {},
   "source": [
    "### 2. Is the sample size large? Are the observations independent?"
   ]
  },
  {
   "cell_type": "markdown",
   "metadata": {},
   "source": [
    "\"The Central Limit Theorem states that the sampling distribution of the sample means approaches a normal distribution as the sample size gets larger — no matter what the shape of the population distribution. This fact holds especially true for sample sizes over 30. All this is saying is that as you take more samples, especially large ones, your graph of the sample means will look more like a normal distribution.\"\n",
    "\n",
    "The sample size is 130 from the describe() function above. That is greater than 30, which makes the sample size large enough. \n",
    "\n",
    "The observations are independent of each other as its individual human body temperatures. "
   ]
  },
  {
   "cell_type": "code",
   "execution_count": null,
   "metadata": {},
   "outputs": [],
   "source": []
  },
  {
   "cell_type": "markdown",
   "metadata": {},
   "source": [
    "### 3. Is the true population mean really 98.6 degrees F?"
   ]
  },
  {
   "cell_type": "markdown",
   "metadata": {},
   "source": [
    "##### First, try a bootstrap hypothesis test."
   ]
  },
  {
   "cell_type": "code",
   "execution_count": 93,
   "metadata": {},
   "outputs": [
    {
     "name": "stdout",
     "output_type": "stream",
     "text": [
      "The p-value is 0.0\n"
     ]
    }
   ],
   "source": [
    "def draw_bs_reps(data, func, size=1):\n",
    "    \n",
    "    bs_replicates = np.empty(size)\n",
    "    \n",
    "    for i in range(size):\n",
    "        bs_replicates[i] = func(np.random.choice(data, size=len(data)))\n",
    "        \n",
    "        return bs_replicates\n",
    "    \n",
    "    \n",
    "bs_replicates_temp = draw_bs_reps(temp, np.mean, size=100000)\n",
    "\n",
    "p = np.sum(bs_replicates_temp >= 98.6) / len(bs_replicates_temp)\n",
    "\n",
    "\n",
    "print('The p-value is', + p)"
   ]
  },
  {
   "cell_type": "markdown",
   "metadata": {},
   "source": [
    "The p-value is 0.0 or extremely small. This suggests that after 100,000 sampling, the mean temperature is not 98.6 degrees F.\n",
    "\n",
    "Let us calculate the confidence interval of 95% to see if the mean is 98.6 degrees F. "
   ]
  },
  {
   "cell_type": "code",
   "execution_count": 134,
   "metadata": {},
   "outputs": [
    {
     "name": "stdout",
     "output_type": "stream",
     "text": [
      "Confidence interval is: 98.12200290560801 98.37645863285348\n"
     ]
    }
   ],
   "source": [
    "#Confidence interval of 95%\n",
    "def mean_confidence_interval(data, confidence=0.95):\n",
    "    a = 1.0 * np.array(data)\n",
    "    n = len(a)\n",
    "    m, se = np.mean(a), st.sem(a)\n",
    "    h = se * st.t.ppf((1 + confidence) / 2., n-1)\n",
    "    return print('Confidence interval is:',+ m-h, m+h)\n",
    "\n",
    "mean_confidence_interval(temp)"
   ]
  },
  {
   "cell_type": "markdown",
   "metadata": {},
   "source": [
    "The mean temperature of 98.6 degrees F does not fall in our confidence interval, which further strengthens the argument that the mean temperature is not 98.6 degrees F. "
   ]
  },
  {
   "cell_type": "markdown",
   "metadata": {},
   "source": [
    "##### Now, let's try frequentist statistical testing. Would you use a one-sample or two-sample test? Why?"
   ]
  },
  {
   "cell_type": "markdown",
   "metadata": {},
   "source": [
    "Many frequentist methods for hypothesis testing roughly involve the following steps:\n",
    "\n",
    "1. Writing down the hypotheses, notably the null hypothesis, which is the opposite of the hypothesis we want to prove (with a certain degree of confidence). \n",
    "\n",
    "   In this case, the null hypothesis is that the mean body tempure is 98.6 degrees F. \n",
    "   \n",
    "        \n",
    "2. Computing a test statistic, a mathematical formula depending on the test type, the model, the hypotheses, and the data. \n",
    "\n",
    "   In this case, we will be calculating z-scores and t statistic, and their respective p-values. This is a one-sample test because there is only one data set we are comparing. \n",
    "   \n",
    "\n",
    "3. Using the computed value to reject the hypothesis with a given level of uncertainty, or fail to conclude (and, consequently, accept the hypothesis until future studies reject it).\n",
    "\n",
    "   We will use the p-values to determine if the null hypothesis is true or false. If the p-value is extremely small, typically less than 0.01, then we can reject the null hypothesis. "
   ]
  },
  {
   "cell_type": "markdown",
   "metadata": {},
   "source": [
    "##### In this situation, is it appropriate to use the  tt  or  zz  statistic?"
   ]
  },
  {
   "attachments": {
    "image.png": {
     "image/png": "[encoded data removed]"
    }
   },
   "cell_type": "markdown",
   "metadata": {},
   "source": [
    "Since the sample size is larger than 30, it is more appropriate to use the z-score. \n",
    "\n",
    "Let's find the z-score using the formula given since we need to use a sample mean:\n",
    "![image.png](attachment:image.png)"
   ]
  },
  {
   "cell_type": "code",
   "execution_count": 135,
   "metadata": {},
   "outputs": [
    {
     "name": "stdout",
     "output_type": "stream",
     "text": [
      "The z-score is -5.475925202078116\n",
      "The p-value is 4.3523151658821886e-08\n"
     ]
    }
   ],
   "source": [
    "z_score = (np.mean(temp) - 98.6) / (np.std(temp) / np.sqrt(len(temp)))\n",
    "print('The z-score is',+z_score)\n",
    "\n",
    "p_value = st.norm.sf(abs(z_score))*2\n",
    "print('The p-value is',+p_value)"
   ]
  },
  {
   "cell_type": "markdown",
   "metadata": {},
   "source": [
    "##### Now try using the other test. How is the result be different? Why?"
   ]
  },
  {
   "cell_type": "code",
   "execution_count": null,
   "metadata": {},
   "outputs": [],
   "source": [
    "Let us compare the t statistic of a one sample test:"
   ]
  },
  {
   "cell_type": "code",
   "execution_count": 111,
   "metadata": {},
   "outputs": [
    {
     "name": "stdout",
     "output_type": "stream",
     "text": [
      "The t statistic is -5.4548232923645195\n",
      "the p-value is 2.4106320415561276e-07\n"
     ]
    }
   ],
   "source": [
    "t, p = st.ttest_1samp(temp, 98.6)\n",
    "print('The t statistic is',+ t)\n",
    "print('the p-value is',+p)"
   ]
  },
  {
   "cell_type": "markdown",
   "metadata": {},
   "source": [
    "As you can see the z-score and t statistic are not exactly the same. Furthermore, the p-values are not the same, while they both show reject the null hypothesis. \n",
    "\n",
    "Since the sample size is larger than 30, the z-score is more appropriate. \n"
   ]
  },
  {
   "cell_type": "code",
   "execution_count": null,
   "metadata": {},
   "outputs": [],
   "source": []
  },
  {
   "cell_type": "markdown",
   "metadata": {},
   "source": [
    "### 4. Draw a small sample of size 10 from the data and repeat both frequentist tests."
   ]
  },
  {
   "cell_type": "code",
   "execution_count": 148,
   "metadata": {
    "scrolled": false
   },
   "outputs": [
    {
     "name": "stdout",
     "output_type": "stream",
     "text": [
      "The sample set of 10 is: [98.2 99.2 98.  98.5 98.3 97.9 96.7 97.1 98.8 98.4]\n",
      "The z-score is -2.1893770644923696\n",
      "The p-value (of the z-score) is 0.028569445260157422\n",
      "The t statistic is -2.077025454218774\n",
      "the p-value (of the t statistic) is 0.0675902479545675\n",
      "Confidence interval is: 97.57632478312112 98.64367521687885\n"
     ]
    }
   ],
   "source": [
    "sample_10 = np.random.choice(temp, size=10)\n",
    "print('The sample set of 10 is:',+sample_10)\n",
    "\n",
    "z_score_10 = (np.mean(sample_10) - 98.6) / (np.std(sample_10) / np.sqrt(len(sample_10)))\n",
    "print('The z-score is',+z_score_10)\n",
    "\n",
    "p_value_10 = st.norm.sf(abs(z_score_10))*2\n",
    "print('The p-value (of the z-score) is',+p_value_10)\n",
    "\n",
    "t_10, p_10 = st.ttest_1samp(sample_10, 98.6)\n",
    "print('The t statistic is',+ t_10)\n",
    "print('the p-value (of the t statistic) is',+p_10)\n",
    "\n",
    "mean_confidence_interval(sample_10)"
   ]
  },
  {
   "cell_type": "markdown",
   "metadata": {},
   "source": [
    "##### Which one is the correct one to use? What do you notice? What does this tell you about the difference in application of the  tt  and  zz  statistic?"
   ]
  },
  {
   "cell_type": "markdown",
   "metadata": {},
   "source": [
    "The results are not conclusive. Why do I draw that conclusion? The z-score, t statistic, respective p-values and confidence interval change as 10 different numbers are pulled. The t statistic SHOULD be the better one to use since the sample size is smaller than 30. The results support this as the p-values for t statistic is larger than the p-value for the z-score when you pull different numbers. "
   ]
  },
  {
   "cell_type": "code",
   "execution_count": null,
   "metadata": {},
   "outputs": [],
   "source": []
  },
  {
   "cell_type": "markdown",
   "metadata": {},
   "source": [
    "### 5. At what temperature should we consider someone's temperature to be \"abnormal\"?\n",
    "As in the previous example, try calculating everything using the boostrap approach, as well as the frequentist approach.\n",
    "Start by computing the margin of error and confidence interval. When calculating the confidence interval, keep in mind that you should use the appropriate formula for one draw, and not N draws."
   ]
  },
  {
   "cell_type": "markdown",
   "metadata": {},
   "source": [
    "The following is the calculations of the margin of error and its confidence interval using the actual temperature dataset:"
   ]
  },
  {
   "cell_type": "code",
   "execution_count": 175,
   "metadata": {},
   "outputs": [
    {
     "name": "stdout",
     "output_type": "stream",
     "text": [
      "The mean is 98.24923076923078\n",
      "margin of error is 1.4314749424825415\n",
      "Confidence interval:\n",
      "(96.81775582674824, 99.68070571171332)\n"
     ]
    }
   ],
   "source": [
    "mean_temp = np.mean(temp)\n",
    "std_temp = np.std(temp)\n",
    "print('The mean is',+mean_temp)\n",
    "\n",
    "#Calculate the z-critical value with a confidence interval of 95%\n",
    "z_critical_temp = st.norm.ppf(q = 0.975) \n",
    "\n",
    "#Calculate the margin of error\n",
    "margin_of_error_temp = z_critical_temp * std_temp \n",
    "print('margin of error is',+margin_of_error_temp)\n",
    "\n",
    "#Confidence interval from the margin of error: (mean - margin of error, mean + margin of error)\n",
    "confidence_interval_temp = (mean_temp - margin_of_error_temp,\n",
    "                       mean_temp + margin_of_error_temp)  \n",
    "\n",
    "print(\"Confidence interval:\")\n",
    "print(confidence_interval_temp)"
   ]
  },
  {
   "cell_type": "markdown",
   "metadata": {},
   "source": [
    "The following is using a random sample set to calculate the margin of error and its confidence interval: "
   ]
  },
  {
   "cell_type": "code",
   "execution_count": 174,
   "metadata": {},
   "outputs": [
    {
     "name": "stdout",
     "output_type": "stream",
     "text": [
      "Sample mean is  98.24562\n",
      "margin of error is 1.4156243576318541\n",
      "Confidence interval:\n",
      "(96.82999564236815, 99.66124435763186)\n"
     ]
    }
   ],
   "source": [
    "sample = np.random.choice(temp, size =10000)\n",
    "sample_mean = np.mean(sample)\n",
    "print('Sample mean is ',+sample_mean)\n",
    "\n",
    "z_critical = st.norm.ppf(q = 0.975)                    \n",
    "\n",
    "std_dev = np.std(sample)  # Get the population standard deviation\n",
    "\n",
    "margin_of_error = z_critical * std_dev\n",
    "print('margin of error is',+margin_of_error)\n",
    "\n",
    "confidence_interval = (sample_mean - margin_of_error,\n",
    "                       sample_mean + margin_of_error)  \n",
    "\n",
    "print(\"Confidence interval:\")\n",
    "print(confidence_interval)"
   ]
  },
  {
   "cell_type": "markdown",
   "metadata": {},
   "source": [
    "The 'abnormal' temperature is outside the confidence interval, so below 96.82 degrees and 99.68 degrees for the actual dataset. \n",
    "\n",
    "The 'abnormal' tempereature for the sample set is below 96.83 and above 99.66. \n",
    "\n",
    "As you can see the sample set does not differ much from the actual dataset. "
   ]
  },
  {
   "cell_type": "code",
   "execution_count": null,
   "metadata": {},
   "outputs": [],
   "source": []
  },
  {
   "cell_type": "markdown",
   "metadata": {},
   "source": [
    "### 6. Is there a significant difference between males and females in normal temperature?\n"
   ]
  },
  {
   "cell_type": "code",
   "execution_count": 218,
   "metadata": {},
   "outputs": [
    {
     "name": "stdout",
     "output_type": "stream",
     "text": [
      "98.1046153846154\n",
      "98.39384615384613\n",
      "The difference between the female and male temperature is 0.289230769230727\n"
     ]
    }
   ],
   "source": [
    "male_temp = df.temperature[df.gender == 'M']\n",
    "female_temp = df.temperature[df.gender == 'F']\n",
    "\n",
    "male_temp_mu = np.mean(male_temp)\n",
    "female_temp_mu = np.mean(female_temp)\n",
    "print(male_temp_mu)\n",
    "print(female_temp_mu)\n",
    "\n",
    "print('The difference between the female and male temperature is', female_temp_mu - male_temp_mu)"
   ]
  },
  {
   "cell_type": "markdown",
   "metadata": {},
   "source": [
    "There does exist a difference between the mean temperatures. \n",
    "\n",
    "An ECDF graph will allow us to see this visually below:"
   ]
  },
  {
   "cell_type": "code",
   "execution_count": 198,
   "metadata": {
    "scrolled": true
   },
   "outputs": [
    {
     "data": {
      "image/png": "[encoded data removed]",
      "text/plain": [
       "<Figure size 432x288 with 1 Axes>"
      ]
     },
     "metadata": {},
     "output_type": "display_data"
    }
   ],
   "source": [
    "male_x, male_y = ecdf(male_temp)\n",
    "female_x, female_y = ecdf(female_temp)\n",
    "\n",
    "plt.plot(male_x, male_y, marker='.', linestyle='none', color='green', label = 'Male Body Temperature')\n",
    "plt.plot(female_x, female_y, marker='.', linestyle='none', color ='purple', label = 'Female Body Temperature')\n",
    "plt.title('Male Body Temperature vs. Female Body Temperature')\n",
    "plt.xlabel('Temperature (F)')\n",
    "plt.ylabel('ECDF')\n",
    "plt.xlim(96, 101)\n",
    "plt.legend()\n",
    "plt.show()"
   ]
  },
  {
   "cell_type": "markdown",
   "metadata": {},
   "source": [
    "The ECDF shows that there is a little overal variation where the female temperature is slightly higher than the male temperature. \n",
    "\n",
    "Let us see if calculaitons support this. \n",
    "\n",
    "Null hyphothesis = female and male body temperatures are the same\n",
    "Alternate hypothesis = female and male body temperatures are different"
   ]
  },
  {
   "cell_type": "code",
   "execution_count": 219,
   "metadata": {
    "scrolled": true
   },
   "outputs": [],
   "source": [
    "#Generate a permutation sample, then concatenate it. Finally splot the array into two.\n",
    "def permutation_sample(data1, data2):\n",
    "    \n",
    "    data = np.concatenate((data1, data2))\n",
    "    \n",
    "    permuted_data = np.random.permutation(data)\n",
    "    \n",
    "    perm_sample_1 = permuted_data[:len(data1)]\n",
    "    perm_sample_2 = permuted_data[len(data1):]\n",
    "    \n",
    "    return perm_sample_1, perm_sample_2\n",
    "\n"
   ]
  },
  {
   "cell_type": "code",
   "execution_count": 220,
   "metadata": {},
   "outputs": [],
   "source": [
    "#Drawing replicates of the permutation\n",
    "def draw_perm_reps(data_1, data_2, func, size=1):\n",
    "    \n",
    "    perm_replicates = np.empty(size)\n",
    "    \n",
    "    for i in range(size):\n",
    "        \n",
    "        perm_sample_1, perm_sample_2 = permutation_sample(data_1, data_2)\n",
    "        \n",
    "        perm_replicates[i] = func(perm_sample_1, perm_sample_2)\n",
    "        \n",
    "        return perm_replicates"
   ]
  },
  {
   "cell_type": "code",
   "execution_count": 221,
   "metadata": {},
   "outputs": [
    {
     "name": "stdout",
     "output_type": "stream",
     "text": [
      "p-value is 0.0086\n"
     ]
    },
    {
     "name": "stderr",
     "output_type": "stream",
     "text": [
      "C:\\Users\\Abha\\Anaconda3\\lib\\site-packages\\ipykernel_launcher.py:12: RuntimeWarning: invalid value encountered in greater_equal\n",
      "  if sys.path[0] == '':\n"
     ]
    }
   ],
   "source": [
    "#Difference of means in two arrays\n",
    "def diff_of_means(data_1, data_2):\n",
    "     \n",
    "    diff = np.mean(data_1) - np.mean(data_2)\n",
    "    \n",
    "    return diff\n",
    "\n",
    "empirical_diff_means = diff_of_means(female_temp, male_temp)\n",
    "\n",
    "perm_replicates = draw_perm_reps(female_temp, male_temp, diff_of_means, size = 10000)\n",
    "\n",
    "p = np.sum(perm_replicates >= empirical_diff_means) / len(perm_replicates)\n",
    "\n",
    "print('p-value is',+p)"
   ]
  },
  {
   "cell_type": "markdown",
   "metadata": {},
   "source": [
    "The p-value is 0.00 which means we can reject the null hypothesis. Which means there is a statistical signficant between the female and male temperatures. "
   ]
  },
  {
   "cell_type": "markdown",
   "metadata": {},
   "source": [
    "##### What testing approach did you use and why?"
   ]
  },
  {
   "cell_type": "markdown",
   "metadata": {},
   "source": [
    "I used permutation sampling because it distributes the data evenly and then splits it, therefore, not giving a statistical advantage to either group. "
   ]
  },
  {
   "cell_type": "markdown",
   "metadata": {},
   "source": [
    "##### Write a story with your conclusion in the context of the original problem."
   ]
  },
  {
   "cell_type": "markdown",
   "metadata": {},
   "source": [
    "In conclusion, there is a difference between female and male body temperatures. Females have a slighly higher body temperature than males. In addition, the mean body temperature is not 98.6 degrees Fahrenheit as Carl Wunderlich stated for 120 years. "
   ]
  }
 ],
 "metadata": {
  "kernelspec": {
   "display_name": "Python 3",
   "language": "python",
   "name": "python3"
  },
  "language_info": {
   "codemirror_mode": {
    "name": "ipython",
    "version": 3
   },
   "file_extension": ".py",
   "mimetype": "text/x-python",
   "name": "python",
   "nbconvert_exporter": "python",
   "pygments_lexer": "ipython3",
   "version": "3.6.5"
  }
 },
 "nbformat": 4,
 "nbformat_minor": 1
}
